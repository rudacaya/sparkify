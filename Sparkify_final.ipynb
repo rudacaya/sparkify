{
 "cells": [
  {
   "cell_type": "markdown",
   "metadata": {},
   "source": [
    "# Sparkify Project Workspace\n",
    "This workspace contains a tiny subset (128MB) of the full dataset available (12GB). Feel free to use this workspace to build your project, or to explore a smaller subset with Spark before deploying your cluster on the cloud. Instructions for setting up your Spark cluster is included in the last lesson of the Extracurricular Spark Course content.\n",
    "\n",
    "You can follow the steps below to guide your data analysis and model building portion of this project."
   ]
  },
  {
   "cell_type": "code",
   "execution_count": 1,
   "metadata": {},
   "outputs": [],
   "source": [
    "from pyspark.sql import SparkSession\n",
    "from pyspark.sql.functions import udf\n",
    "from pyspark.sql.types import StringType\n",
    "from pyspark.sql.types import IntegerType\n",
    "from pyspark.sql.functions import desc\n",
    "from pyspark.sql.functions import asc\n",
    "from pyspark.sql.functions import sum as Fsum\n",
    "\n",
    "\n",
    "from pyspark.ml.feature import VectorAssembler, StandardScaler\n",
    "from pyspark.ml import Pipeline\n",
    "from pyspark.ml.classification import LogisticRegression, RandomForestClassifier, GBTClassifier\n",
    "from pyspark.ml.tuning import CrossValidator, ParamGridBuilder\n",
    "from pyspark.ml.evaluation import MulticlassClassificationEvaluator\n",
    "\n",
    "import datetime\n",
    "\n",
    "import numpy as np\n",
    "import pandas as pd\n",
    "%matplotlib inline\n",
    "import matplotlib.pyplot as plt"
   ]
  },
  {
   "cell_type": "code",
   "execution_count": 2,
   "metadata": {},
   "outputs": [],
   "source": [
    "# create a Spark session\n",
    "spark = SparkSession \\\n",
    "        .builder \\\n",
    "        .appName(\"Sparkify_Churn_Prediction\").getOrCreate()"
   ]
  },
  {
   "cell_type": "markdown",
   "metadata": {},
   "source": [
    "# Load and Clean Dataset\n",
    "In this workspace, the mini-dataset file is `mini_sparkify_event_data.json`. Load and clean the dataset, checking for invalid or missing data - for example, records without userids or sessionids. "
   ]
  },
  {
   "cell_type": "markdown",
   "metadata": {},
   "source": [
    "### Load"
   ]
  },
  {
   "cell_type": "code",
   "execution_count": 3,
   "metadata": {},
   "outputs": [],
   "source": [
    "path = \"mini_sparkify_event_data.json\"\n",
    "data_full = spark.read.json(path)"
   ]
  },
  {
   "cell_type": "markdown",
   "metadata": {},
   "source": [
    "### Check Structure"
   ]
  },
  {
   "cell_type": "code",
   "execution_count": 74,
   "metadata": {},
   "outputs": [
    {
     "data": {
      "text/plain": [
       "286500"
      ]
     },
     "execution_count": 74,
     "metadata": {},
     "output_type": "execute_result"
    }
   ],
   "source": [
    "data_full.count()"
   ]
  },
  {
   "cell_type": "code",
   "execution_count": 76,
   "metadata": {},
   "outputs": [
    {
     "data": {
      "text/plain": [
       "226"
      ]
     },
     "execution_count": 76,
     "metadata": {},
     "output_type": "execute_result"
    }
   ],
   "source": [
    "data_full.select(\"userId\").dropDuplicates().count()"
   ]
  },
  {
   "cell_type": "markdown",
   "metadata": {},
   "source": [
    "### Check Null Values"
   ]
  },
  {
   "cell_type": "code",
   "execution_count": 77,
   "metadata": {
    "scrolled": true
   },
   "outputs": [
    {
     "name": "stdout",
     "output_type": "stream",
     "text": [
      "+------+\n",
      "|userId|\n",
      "+------+\n",
      "|      |\n",
      "|    10|\n",
      "|   100|\n",
      "|100001|\n",
      "|100002|\n",
      "|100003|\n",
      "|100004|\n",
      "|100005|\n",
      "|100006|\n",
      "|100007|\n",
      "|100008|\n",
      "|100009|\n",
      "|100010|\n",
      "|100011|\n",
      "|100012|\n",
      "|100013|\n",
      "|100014|\n",
      "|100015|\n",
      "|100016|\n",
      "|100017|\n",
      "+------+\n",
      "only showing top 20 rows\n",
      "\n"
     ]
    }
   ],
   "source": [
    "data_cleaned = data_full.dropna(how = \"any\", subset = [\"userId\", \"sessionId\"])\n",
    "data_cleaned.select(\"userId\").dropDuplicates().sort(\"userId\").show()"
   ]
  },
  {
   "cell_type": "code",
   "execution_count": 78,
   "metadata": {
    "scrolled": true
   },
   "outputs": [
    {
     "name": "stdout",
     "output_type": "stream",
     "text": [
      "+---------+\n",
      "|sessionId|\n",
      "+---------+\n",
      "|        1|\n",
      "|        2|\n",
      "|        3|\n",
      "|        4|\n",
      "|        5|\n",
      "|        6|\n",
      "|        7|\n",
      "|        8|\n",
      "|        9|\n",
      "|       10|\n",
      "|       11|\n",
      "|       12|\n",
      "|       13|\n",
      "|       15|\n",
      "|       16|\n",
      "|       17|\n",
      "|       18|\n",
      "|       19|\n",
      "|       20|\n",
      "|       21|\n",
      "+---------+\n",
      "only showing top 20 rows\n",
      "\n"
     ]
    }
   ],
   "source": [
    "data_cleaned.select(\"sessionId\").dropDuplicates().sort(\"sessionId\").show()"
   ]
  },
  {
   "cell_type": "code",
   "execution_count": 79,
   "metadata": {},
   "outputs": [
    {
     "data": {
      "text/plain": [
       "278154"
      ]
     },
     "execution_count": 79,
     "metadata": {},
     "output_type": "execute_result"
    }
   ],
   "source": [
    "data_cleaned = data_cleaned.filter(data_cleaned[\"userId\"] != \"\")\n",
    "data_cleaned.count()"
   ]
  },
  {
   "cell_type": "markdown",
   "metadata": {},
   "source": [
    "# Exploratory Data Analysis\n",
    "When you're working with the full dataset, perform EDA by loading a small subset of the data and doing basic manipulations within Spark. In this workspace, you are already provided a small subset of data you can explore.\n",
    "\n",
    "### Define Churn\n",
    "\n",
    "Once you've done some preliminary analysis, create a column `Churn` to use as the label for your model. I suggest using the `Cancellation Confirmation` events to define your churn, which happen for both paid and free users. As a bonus task, you can also look into the `Downgrade` events.\n",
    "\n",
    "### Explore Data\n",
    "Once you've defined churn, perform some exploratory data analysis to observe the behavior for users who stayed vs users who churned. You can start by exploring aggregates on these two groups of users, observing how much of a specific action they experienced per a certain time unit or number of songs played."
   ]
  },
  {
   "cell_type": "code",
   "execution_count": 80,
   "metadata": {},
   "outputs": [],
   "source": [
    "churn = udf(lambda x : 1 if x == 'Cancellation Confirmation' else 0, IntegerType())\n",
    "downgrade = udf(lambda x : 1 if x == 'Downgrade' else 0, IntegerType())"
   ]
  },
  {
   "cell_type": "code",
   "execution_count": 81,
   "metadata": {},
   "outputs": [],
   "source": [
    "data_cleaned_churn = data_cleaned.withColumn('Churn',churn('page'))\n",
    "data_cleaned_full  = data_cleaned_churn.withColumn('Downgrade',downgrade('page'))"
   ]
  },
  {
   "cell_type": "code",
   "execution_count": 82,
   "metadata": {},
   "outputs": [
    {
     "data": {
      "text/html": [
       "<div>\n",
       "<style scoped>\n",
       "    .dataframe tbody tr th:only-of-type {\n",
       "        vertical-align: middle;\n",
       "    }\n",
       "\n",
       "    .dataframe tbody tr th {\n",
       "        vertical-align: top;\n",
       "    }\n",
       "\n",
       "    .dataframe thead th {\n",
       "        text-align: right;\n",
       "    }\n",
       "</style>\n",
       "<table border=\"1\" class=\"dataframe\">\n",
       "  <thead>\n",
       "    <tr style=\"text-align: right;\">\n",
       "      <th></th>\n",
       "      <th>Churn</th>\n",
       "      <th>count</th>\n",
       "    </tr>\n",
       "  </thead>\n",
       "  <tbody>\n",
       "    <tr>\n",
       "      <th>0</th>\n",
       "      <td>1</td>\n",
       "      <td>52</td>\n",
       "    </tr>\n",
       "    <tr>\n",
       "      <th>1</th>\n",
       "      <td>0</td>\n",
       "      <td>278102</td>\n",
       "    </tr>\n",
       "  </tbody>\n",
       "</table>\n",
       "</div>"
      ],
      "text/plain": [
       "   Churn   count\n",
       "0      1      52\n",
       "1      0  278102"
      ]
     },
     "execution_count": 82,
     "metadata": {},
     "output_type": "execute_result"
    }
   ],
   "source": [
    "data_cleaned_full.groupby([\"Churn\"]).count().toPandas()"
   ]
  },
  {
   "cell_type": "markdown",
   "metadata": {},
   "source": [
    "### Amount"
   ]
  },
  {
   "cell_type": "code",
   "execution_count": 15,
   "metadata": {},
   "outputs": [
    {
     "data": {
      "text/plain": [
       "225"
      ]
     },
     "execution_count": 15,
     "metadata": {},
     "output_type": "execute_result"
    }
   ],
   "source": [
    "data_cleaned_full.dropDuplicates([\"userId\"]).count()"
   ]
  },
  {
   "cell_type": "code",
   "execution_count": 16,
   "metadata": {},
   "outputs": [
    {
     "data": {
      "text/plain": [
       "52"
      ]
     },
     "execution_count": 16,
     "metadata": {},
     "output_type": "execute_result"
    }
   ],
   "source": [
    "data_cleaned_full.filter(data_cleaned_full.Churn == 1).dropDuplicates([\"userId\"]).count()"
   ]
  },
  {
   "cell_type": "code",
   "execution_count": 14,
   "metadata": {},
   "outputs": [
    {
     "data": {
      "image/png": "[encoded data removed]",
      "text/plain": [
       "<Figure size 432x288 with 1 Axes>"
      ]
     },
     "metadata": {
      "needs_background": "light"
     },
     "output_type": "display_data"
    }
   ],
   "source": [
    "data_cleaned_full.groupby([\"Churn\"]).count().toPandas().set_index('Churn').plot(kind='bar', legend = False);\n",
    "plt.title('Churn Instances')\n",
    "plt.ylabel('registers count');"
   ]
  },
  {
   "cell_type": "code",
   "execution_count": 15,
   "metadata": {},
   "outputs": [
    {
     "data": {
      "text/plain": [
       "154"
      ]
     },
     "execution_count": 15,
     "metadata": {},
     "output_type": "execute_result"
    }
   ],
   "source": [
    "data_cleaned_full.filter(data_cleaned_full.Downgrade == 1).dropDuplicates([\"userId\"]).count()"
   ]
  },
  {
   "cell_type": "code",
   "execution_count": 16,
   "metadata": {},
   "outputs": [
    {
     "data": {
      "image/png": "[encoded data removed]",
      "text/plain": [
       "<Figure size 432x288 with 1 Axes>"
      ]
     },
     "metadata": {
      "needs_background": "light"
     },
     "output_type": "display_data"
    }
   ],
   "source": [
    "data_cleaned_full.groupby(['Downgrade']).count().toPandas().set_index('Downgrade').plot(kind='bar', legend = False);\n",
    "plt.title('Downgrade Instances')\n",
    "plt.ylabel('Count');"
   ]
  },
  {
   "cell_type": "markdown",
   "metadata": {},
   "source": [
    "### City"
   ]
  },
  {
   "cell_type": "code",
   "execution_count": 17,
   "metadata": {},
   "outputs": [
    {
     "data": {
      "image/png": "[encoded data removed]",
      "text/plain": [
       "<Figure size 432x288 with 1 Axes>"
      ]
     },
     "metadata": {
      "needs_background": "light"
     },
     "output_type": "display_data"
    }
   ],
   "source": [
    "plot_2 = data_cleaned_full.dropDuplicates(['userId']).groupby(['location']).count().sort('count').toPandas().tail(10)\n",
    "plot_2.set_index('location').plot(kind='bar', legend = False);\n",
    "plt.title('Cities of the Customers')\n",
    "plt.ylabel('Customer count');"
   ]
  },
  {
   "cell_type": "code",
   "execution_count": 18,
   "metadata": {},
   "outputs": [
    {
     "data": {
      "image/png": "[encoded data removed]",
      "text/plain": [
       "<Figure size 432x288 with 1 Axes>"
      ]
     },
     "metadata": {
      "needs_background": "light"
     },
     "output_type": "display_data"
    }
   ],
   "source": [
    "plot_3 = data_cleaned_full.filter(data_cleaned_full.Churn == 1).dropDuplicates(['userId']).groupby(['location']).count().sort('count').toPandas().tail(10)\n",
    "plot_3.set_index('location').plot(kind='bar', legend = False);\n",
    "plt.title('Cities w/ Churn')\n",
    "plt.ylabel('Customer count');"
   ]
  },
  {
   "cell_type": "code",
   "execution_count": 19,
   "metadata": {},
   "outputs": [
    {
     "data": {
      "image/png": "[encoded data removed]",
      "text/plain": [
       "<Figure size 432x288 with 1 Axes>"
      ]
     },
     "metadata": {
      "needs_background": "light"
     },
     "output_type": "display_data"
    }
   ],
   "source": [
    "plot_4 = data_cleaned_full.filter(data_cleaned_full.Downgrade == 1).dropDuplicates(['userId']).groupby(['location']).count().sort('count').toPandas().tail(10)\n",
    "plot_4.set_index('location').plot(kind='bar');\n",
    "plt.title('Cities w/ Downgrade')\n",
    "plt.ylabel('Customer count');"
   ]
  },
  {
   "cell_type": "markdown",
   "metadata": {},
   "source": [
    "### Gender"
   ]
  },
  {
   "cell_type": "code",
   "execution_count": 20,
   "metadata": {},
   "outputs": [
    {
     "name": "stdout",
     "output_type": "stream",
     "text": [
      "+------+-----+\n",
      "|gender|count|\n",
      "+------+-----+\n",
      "|     F|  104|\n",
      "|     M|  121|\n",
      "+------+-----+\n",
      "\n"
     ]
    }
   ],
   "source": [
    "data_cleaned_full.dropDuplicates([\"userId\"]).groupby([\"gender\"]).count().show()"
   ]
  },
  {
   "cell_type": "code",
   "execution_count": 21,
   "metadata": {},
   "outputs": [
    {
     "name": "stdout",
     "output_type": "stream",
     "text": [
      "+------+-----+\n",
      "|gender|count|\n",
      "+------+-----+\n",
      "|     F|   20|\n",
      "|     M|   32|\n",
      "+------+-----+\n",
      "\n"
     ]
    }
   ],
   "source": [
    "data_cleaned_full.filter(data_cleaned_full.Churn == 1).dropDuplicates([\"userId\"]).groupby([\"gender\"]).count().show()"
   ]
  },
  {
   "cell_type": "code",
   "execution_count": 22,
   "metadata": {},
   "outputs": [
    {
     "name": "stdout",
     "output_type": "stream",
     "text": [
      "+------+-----+\n",
      "|gender|count|\n",
      "+------+-----+\n",
      "|     F|   75|\n",
      "|     M|   79|\n",
      "+------+-----+\n",
      "\n"
     ]
    }
   ],
   "source": [
    "data_cleaned_full.filter(data_cleaned_full.Downgrade == 1).dropDuplicates([\"userId\"]).groupby([\"gender\"]).count().show()"
   ]
  },
  {
   "cell_type": "markdown",
   "metadata": {},
   "source": [
    "### Page"
   ]
  },
  {
   "cell_type": "code",
   "execution_count": 23,
   "metadata": {},
   "outputs": [],
   "source": [
    "page = data_cleaned_full.groupby(['page']).count().sort('count').toPandas().set_index('page')"
   ]
  },
  {
   "cell_type": "code",
   "execution_count": 24,
   "metadata": {},
   "outputs": [
    {
     "data": {
      "text/plain": [
       "<AxesSubplot:xlabel='page'>"
      ]
     },
     "execution_count": 24,
     "metadata": {},
     "output_type": "execute_result"
    },
    {
     "data": {
      "image/png": "[encoded data removed]",
      "text/plain": [
       "<Figure size 432x288 with 1 Axes>"
      ]
     },
     "metadata": {
      "needs_background": "light"
     },
     "output_type": "display_data"
    }
   ],
   "source": [
    "page.plot(kind = 'bar', legend = False)"
   ]
  },
  {
   "cell_type": "markdown",
   "metadata": {},
   "source": [
    "### Possible Causes\n",
    "\n",
    "#### - Churn"
   ]
  },
  {
   "cell_type": "code",
   "execution_count": 25,
   "metadata": {},
   "outputs": [],
   "source": [
    "churn_customers = data_cleaned_full.filter(data_cleaned_full.Churn == 1).dropDuplicates(['userId']).select('userId')"
   ]
  },
  {
   "cell_type": "code",
   "execution_count": 26,
   "metadata": {},
   "outputs": [],
   "source": [
    "churn_ids = [int(row.userId) for row in churn_customers.collect()]"
   ]
  },
  {
   "cell_type": "markdown",
   "metadata": {},
   "source": [
    "#### - Bad Recommendations"
   ]
  },
  {
   "cell_type": "code",
   "execution_count": 27,
   "metadata": {},
   "outputs": [
    {
     "name": "stdout",
     "output_type": "stream",
     "text": [
      "The amount of thumbsdown for churn customers is 496. The mean amount of thumbs down per customer is 9.538461538461538.\n"
     ]
    }
   ],
   "source": [
    "td_churn = data_cleaned_full.filter((data_cleaned_full.page == 'Thumbs Down')&(data_cleaned_full.userId.isin(churn_ids))).count()\n",
    "\n",
    "n_churn = data_cleaned_full.filter(data_cleaned_full.Churn == 1).dropDuplicates([\"userId\"]).count()\n",
    "n_total = data_cleaned_full.dropDuplicates([\"userId\"]).count()\n",
    "n_not_churn = n_total - n_churn\n",
    "\n",
    "print('The amount of thumbsdown for churn customers is {}. The mean amount of thumbs down per customer is {}.'.format(td_churn, td_churn/n_churn))"
   ]
  },
  {
   "cell_type": "code",
   "execution_count": 28,
   "metadata": {},
   "outputs": [
    {
     "name": "stdout",
     "output_type": "stream",
     "text": [
      "The amount of thumbsdown for not churn customers is 2050. The mean amount of thumbs down per customer is 11.84971098265896.\n"
     ]
    }
   ],
   "source": [
    "td_not_churn = data_cleaned_full.filter((data_cleaned_full.page == 'Thumbs Down')&(data_cleaned_full.userId.isin(churn_ids)==False)).count()\n",
    "\n",
    "n_churn = data_cleaned_full.filter(data_cleaned_full.Churn == 1).dropDuplicates([\"userId\"]).count()\n",
    "n_total = data_cleaned_full.dropDuplicates([\"userId\"]).count()\n",
    "n_not_churn = n_total - n_churn\n",
    "\n",
    "print('The amount of thumbsdown for not churn customers is {}. The mean amount of thumbs down per customer is {}.'.format(td_not_churn, td_not_churn/n_not_churn))"
   ]
  },
  {
   "cell_type": "markdown",
   "metadata": {},
   "source": [
    "#### - Not enough connections"
   ]
  },
  {
   "cell_type": "code",
   "execution_count": 29,
   "metadata": {},
   "outputs": [
    {
     "name": "stdout",
     "output_type": "stream",
     "text": [
      "The amount of friend adds for churn customers is 636. The mean amount of friend adds per customer is 12.23076923076923.\n"
     ]
    }
   ],
   "source": [
    "fa_churn = data_cleaned_full.filter((data_cleaned_full.page == 'Add Friend')&(data_cleaned_full.userId.isin(churn_ids))).count()\n",
    "\n",
    "n_churn = data_cleaned_full.filter(data_cleaned_full.Churn == 1).dropDuplicates([\"userId\"]).count()\n",
    "n_total = data_cleaned_full.dropDuplicates([\"userId\"]).count()\n",
    "n_not_churn = n_total - n_churn\n",
    "\n",
    "print('The amount of friend adds for churn customers is {}. The mean amount of friend adds per customer is {}.'.format(fa_churn, fa_churn/n_churn))"
   ]
  },
  {
   "cell_type": "code",
   "execution_count": 30,
   "metadata": {},
   "outputs": [
    {
     "name": "stdout",
     "output_type": "stream",
     "text": [
      "The amount of friend adds for not churn customers is 3641. The mean amount of friend adds per customer is 21.046242774566473.\n"
     ]
    }
   ],
   "source": [
    "fa_not_churn = data_cleaned_full.filter((data_cleaned_full.page == 'Add Friend')&(data_cleaned_full.userId.isin(churn_ids)==False)).count()\n",
    "\n",
    "n_churn = data_cleaned_full.filter(data_cleaned_full.Churn == 1).dropDuplicates([\"userId\"]).count()\n",
    "n_total = data_cleaned_full.dropDuplicates([\"userId\"]).count()\n",
    "n_not_churn = n_total - n_churn\n",
    "\n",
    "print('The amount of friend adds for not churn customers is {}. The mean amount of friend adds per customer is {}.'.format(fa_not_churn, fa_not_churn/n_not_churn))"
   ]
  },
  {
   "cell_type": "markdown",
   "metadata": {},
   "source": [
    "#### Not Understand how the app works"
   ]
  },
  {
   "cell_type": "code",
   "execution_count": 31,
   "metadata": {},
   "outputs": [
    {
     "name": "stdout",
     "output_type": "stream",
     "text": [
      "The amount of help querys for churn customers is 239. The mean amount of help querys per customer is 4.596153846153846.\n"
     ]
    }
   ],
   "source": [
    "help_churn = data_cleaned_full.filter((data_cleaned_full.page == 'Help')&(data_cleaned_full.userId.isin(churn_ids))).count()\n",
    "\n",
    "n_churn = data_cleaned_full.filter(data_cleaned_full.Churn == 1).dropDuplicates([\"userId\"]).count()\n",
    "n_total = data_cleaned_full.dropDuplicates([\"userId\"]).count()\n",
    "n_not_churn = n_total - n_churn\n",
    "\n",
    "print('The amount of help querys for churn customers is {}. The mean amount of help querys per customer is {}.'.format(help_churn, help_churn/n_churn))"
   ]
  },
  {
   "cell_type": "code",
   "execution_count": 32,
   "metadata": {},
   "outputs": [
    {
     "name": "stdout",
     "output_type": "stream",
     "text": [
      "The amount of help querys for not churn customers is 1215. The mean amount of help querys per customer is 7.023121387283237.\n"
     ]
    }
   ],
   "source": [
    "help_not_churn = data_cleaned_full.filter((data_cleaned_full.page == 'Help')&(data_cleaned_full.userId.isin(churn_ids)==False)).count()\n",
    "\n",
    "n_churn = data_cleaned_full.filter(data_cleaned_full.Churn == 1).dropDuplicates([\"userId\"]).count()\n",
    "n_total = data_cleaned_full.dropDuplicates([\"userId\"]).count()\n",
    "n_not_churn = n_total - n_churn\n",
    "\n",
    "print('The amount of help querys for not churn customers is {}. The mean amount of help querys per customer is {}.'.format(help_not_churn, help_not_churn/n_not_churn))"
   ]
  },
  {
   "cell_type": "markdown",
   "metadata": {},
   "source": [
    "# Feature Engineering\n",
    "Once you've familiarized yourself with the data, build out the features you find promising to train your model on. To work with the full dataset, you can follow the following steps.\n",
    "- Write a script to extract the necessary features from the smaller subset of data\n",
    "- Ensure that your script is scalable, using the best practices discussed in Lesson 3\n",
    "- Try your script on the full data set, debugging your script if necessary\n",
    "\n",
    "If you are working in the classroom workspace, you can just extract features based on the small subset of data contained here. Be sure to transfer over this work to the larger dataset when you work on your Spark cluster."
   ]
  },
  {
   "cell_type": "code",
   "execution_count": 83,
   "metadata": {},
   "outputs": [],
   "source": [
    "data_churn    = data_cleaned_full.filter(data_cleaned_full.Churn == 1)\n",
    "data_no_churn = data_cleaned_full.filter(data_cleaned_full.Churn == 0).sample(1.0, seed=7).limit(data_churn.count())\n",
    "balanced_data = data_churn.union(data_no_churn)"
   ]
  },
  {
   "cell_type": "code",
   "execution_count": 85,
   "metadata": {},
   "outputs": [
    {
     "data": {
      "text/plain": [
       "[Row(Churn=1, count=52), Row(Churn=0, count=52)]"
      ]
     },
     "execution_count": 85,
     "metadata": {},
     "output_type": "execute_result"
    }
   ],
   "source": [
    "balanced_data.groupby([\"Churn\"]).count().collect()"
   ]
  },
  {
   "cell_type": "code",
   "execution_count": 86,
   "metadata": {},
   "outputs": [
    {
     "data": {
      "text/plain": [
       "104"
      ]
     },
     "execution_count": 86,
     "metadata": {},
     "output_type": "execute_result"
    }
   ],
   "source": [
    "balanced_data.count()"
   ]
  },
  {
   "cell_type": "markdown",
   "metadata": {},
   "source": [
    "#### Hour:"
   ]
  },
  {
   "cell_type": "code",
   "execution_count": 87,
   "metadata": {},
   "outputs": [],
   "source": [
    "hours = udf(lambda x: int(datetime.datetime.utcfromtimestamp(x/1000.0).hour), IntegerType())\n",
    "hour  = balanced_data.select('userId', 'ts').withColumn('hour', hours(balanced_data.ts))"
   ]
  },
  {
   "cell_type": "markdown",
   "metadata": {},
   "source": [
    "#### Gender:"
   ]
  },
  {
   "cell_type": "code",
   "execution_count": 88,
   "metadata": {},
   "outputs": [],
   "source": [
    "genders = udf(lambda x: 1 if x == 'F' else 0, IntegerType())\n",
    "gender  = balanced_data.select('userId', 'gender').withColumn('gender', genders(balanced_data.gender))"
   ]
  },
  {
   "cell_type": "markdown",
   "metadata": {},
   "source": [
    "#### Thumbs up and down:"
   ]
  },
  {
   "cell_type": "code",
   "execution_count": 106,
   "metadata": {},
   "outputs": [],
   "source": [
    "thumbs_down = balanced_data.where(balanced_data.page == 'Thumbs Down').groupby(\"userId\").count()\n",
    "thumbs_down = thumbs_down.withColumnRenamed(\"count\",\"thumbs_down\")\n",
    "\n",
    "thumbs_up   = balanced_data.filter(balanced_data.page == 'Thumbs Up').groupby(\"userId\").count()\n",
    "thumbs_up   = thumbs_up.withColumnRenamed(\"count\",\"thumbs_up\")"
   ]
  },
  {
   "cell_type": "markdown",
   "metadata": {},
   "source": [
    "#### Number of Sessions:"
   ]
  },
  {
   "cell_type": "code",
   "execution_count": 92,
   "metadata": {},
   "outputs": [],
   "source": [
    "sessions   = balanced_data.select('userId', 'sessionId').groupby('userId').count()\n",
    "sessions   = sessions.withColumnRenamed(\"count\",\"sessions\")"
   ]
  },
  {
   "cell_type": "markdown",
   "metadata": {},
   "source": [
    "#### Merge Features:"
   ]
  },
  {
   "cell_type": "code",
   "execution_count": 130,
   "metadata": {},
   "outputs": [
    {
     "data": {
      "text/plain": [
       "DataFrame[userId: string, hour: int]"
      ]
     },
     "execution_count": 130,
     "metadata": {},
     "output_type": "execute_result"
    }
   ],
   "source": [
    "hour.select('userId', 'hour')"
   ]
  },
  {
   "cell_type": "code",
   "execution_count": 138,
   "metadata": {},
   "outputs": [],
   "source": [
    "## Join all the features #.select('userId', 'Churn', 'Downgrade'\n",
    "df_final = balanced_data.select('userId', 'Churn', 'Downgrade', 'ts').join(hour.select('userId', 'hour'), 'userId', how='left').\\\n",
    "                join(gender, 'userId', how='left').\\\n",
    "                join(thumbs_down, 'userId', how='left').\\\n",
    "                join(thumbs_up, 'userId', how='left').\\\n",
    "                join(sessions, 'userId', how='left').fillna(0).dropDuplicates(['userId','Churn', 'Downgrade', 'ts'])"
   ]
  },
  {
   "cell_type": "code",
   "execution_count": 134,
   "metadata": {},
   "outputs": [
    {
     "data": {
      "text/plain": [
       "104"
      ]
     },
     "execution_count": 134,
     "metadata": {},
     "output_type": "execute_result"
    }
   ],
   "source": [
    "balanced_data.count()"
   ]
  },
  {
   "cell_type": "code",
   "execution_count": 139,
   "metadata": {},
   "outputs": [
    {
     "data": {
      "text/plain": [
       "104"
      ]
     },
     "execution_count": 139,
     "metadata": {},
     "output_type": "execute_result"
    }
   ],
   "source": [
    "df_final.count()"
   ]
  },
  {
   "cell_type": "code",
   "execution_count": 136,
   "metadata": {},
   "outputs": [
    {
     "name": "stdout",
     "output_type": "stream",
     "text": [
      "root\n",
      " |-- userId: string (nullable = true)\n",
      " |-- Churn: integer (nullable = true)\n",
      " |-- Downgrade: integer (nullable = true)\n",
      " |-- ts: long (nullable = true)\n",
      " |-- hour: integer (nullable = true)\n",
      " |-- gender: integer (nullable = true)\n",
      " |-- thumbs_down: long (nullable = true)\n",
      " |-- thumbs_up: long (nullable = true)\n",
      " |-- sessions: long (nullable = true)\n",
      "\n"
     ]
    }
   ],
   "source": [
    "df_final.printSchema()"
   ]
  },
  {
   "cell_type": "code",
   "execution_count": 168,
   "metadata": {},
   "outputs": [],
   "source": [
    "# Vector assembler\n",
    "cols = ['hour', 'gender', 'thumbs_down', 'thumbs_up', 'sessions']\n",
    "assembler = VectorAssembler(inputCols=cols, outputCol=\"n_features\")\n",
    "data = assembler.transform(df_final)"
   ]
  },
  {
   "cell_type": "code",
   "execution_count": 170,
   "metadata": {},
   "outputs": [],
   "source": [
    "train, vt = data.randomSplit([0.7, 0.3], seed= 42)\n",
    "validation, test = vt.randomSplit([0.5, 0.5], seed = 42)"
   ]
  },
  {
   "cell_type": "code",
   "execution_count": 171,
   "metadata": {},
   "outputs": [],
   "source": [
    "scaler = StandardScaler(inputCol=\"n_features\", outputCol=\"features\", withStd=True)"
   ]
  },
  {
   "cell_type": "code",
   "execution_count": 172,
   "metadata": {},
   "outputs": [],
   "source": [
    "scalerModel = scaler.fit(train)"
   ]
  },
  {
   "cell_type": "code",
   "execution_count": 173,
   "metadata": {},
   "outputs": [],
   "source": [
    "df_train = scalerModel.transform(train)"
   ]
  },
  {
   "cell_type": "code",
   "execution_count": 174,
   "metadata": {},
   "outputs": [],
   "source": [
    "df_val = scalerModel.transform(validation)"
   ]
  },
  {
   "cell_type": "code",
   "execution_count": 175,
   "metadata": {},
   "outputs": [],
   "source": [
    "df_test = scalerModel.transform(test)"
   ]
  },
  {
   "cell_type": "markdown",
   "metadata": {},
   "source": [
    "# Modeling\n",
    "Split the full dataset into train, test, and validation sets. Test out several of the machine learning methods you learned. Evaluate the accuracy of the various models, tuning parameters as necessary. Determine your winning model based on test accuracy and report results on the validation set. Since the churned users are a fairly small subset, I suggest using F1 score as the metric to optimize."
   ]
  },
  {
   "cell_type": "code",
   "execution_count": 176,
   "metadata": {},
   "outputs": [],
   "source": [
    "# logistic regression\n",
    "log_regression = LogisticRegression(featuresCol='features', labelCol='Churn', maxIter = 5)\n",
    "m1 = log_regression.fit(df_train)"
   ]
  },
  {
   "cell_type": "code",
   "execution_count": 177,
   "metadata": {},
   "outputs": [],
   "source": [
    "# random forest\n",
    "random_forest = RandomForestClassifier(featuresCol='features', labelCol='Churn', numTrees=10)\n",
    "m2 = random_forest.fit(df_train)"
   ]
  },
  {
   "cell_type": "code",
   "execution_count": 178,
   "metadata": {},
   "outputs": [],
   "source": [
    "# gradient boosting tree\n",
    "gbt = GBTClassifier(featuresCol='features', labelCol='Churn', maxIter = 5)\n",
    "m3 = gbt.fit(df_train)"
   ]
  },
  {
   "cell_type": "code",
   "execution_count": 191,
   "metadata": {},
   "outputs": [],
   "source": [
    "models = [[m1, 'Logistic Regression'], [m2, 'Random Forest'], [m3, 'Gradient Boosting Tree']]\n",
    "evaluations = {}\n",
    "for model in models:\n",
    "    predictions = model[0].transform(df_val)\n",
    "    evaluator = MulticlassClassificationEvaluator(labelCol=\"Churn\", predictionCol=\"prediction\" ,metricName='f1')\n",
    "    f1_score = evaluator.evaluate(predictions.select('prediction','Churn'))\n",
    "    evaluations[model[1]] = f1_score"
   ]
  },
  {
   "cell_type": "code",
   "execution_count": 192,
   "metadata": {},
   "outputs": [
    {
     "data": {
      "text/plain": [
       "{'Logistic Regression': 1.0,\n",
       " 'Random Forest': 1.0,\n",
       " 'Gradient Boosting Tree': 1.0}"
      ]
     },
     "execution_count": 192,
     "metadata": {},
     "output_type": "execute_result"
    }
   ],
   "source": [
    "evaluations"
   ]
  },
  {
   "cell_type": "markdown",
   "metadata": {},
   "source": [
    "### Refinement"
   ]
  },
  {
   "cell_type": "code",
   "execution_count": 196,
   "metadata": {},
   "outputs": [],
   "source": [
    "rf_refined = RandomForestClassifier(labelCol=\"Churn\", featuresCol=\"features\")\n",
    "\n",
    "# Chain indexers and forest in a Pipeline\n",
    "#pipeline = Pipeline([rf_refined])\n",
    "grid = ParamGridBuilder().addGrid(rf_refined.maxDepth, [5, 10]).addGrid(rf_refined.numTrees, [2, 5, 10])\n",
    "grid = grid.build()\n",
    "cv = CrossValidator(estimator=rf_refined, \n",
    "                    estimatorParamMaps = grid, \n",
    "                    evaluator = MulticlassClassificationEvaluator(labelCol=\"Churn\", predictionCol=\"prediction\" ,metricName='f1'),\n",
    "                    numFolds=5)\n",
    "\n",
    "m_best = cv.fit(df_train)"
   ]
  },
  {
   "cell_type": "code",
   "execution_count": 199,
   "metadata": {},
   "outputs": [],
   "source": [
    "pred = m_best.transform(df_test)\n",
    "evaluator = MulticlassClassificationEvaluator(labelCol=\"Churn\", predictionCol=\"prediction\" ,metricName='f1')\n",
    "f1_score = evaluator.evaluate(predictions.select('prediction','Churn'), {evaluator.metricName: 'f1'})"
   ]
  },
  {
   "cell_type": "code",
   "execution_count": 200,
   "metadata": {},
   "outputs": [
    {
     "data": {
      "text/plain": [
       "1.0"
      ]
     },
     "execution_count": 200,
     "metadata": {},
     "output_type": "execute_result"
    }
   ],
   "source": [
    "f1_score"
   ]
  },
  {
   "cell_type": "code",
   "execution_count": 205,
   "metadata": {},
   "outputs": [
    {
     "data": {
      "text/plain": [
       "{Param(parent='RandomForestClassifier_010de385089a', name='maxDepth', doc='Maximum depth of the tree. (>= 0) E.g., depth 0 means 1 leaf node; depth 1 means 1 internal node + 2 leaf nodes.'): 5,\n",
       " Param(parent='RandomForestClassifier_010de385089a', name='numTrees', doc='Number of trees to train (>= 1).'): 2}"
      ]
     },
     "execution_count": 205,
     "metadata": {},
     "output_type": "execute_result"
    }
   ],
   "source": [
    "m_best.getEstimatorParamMaps()[ np.argmax(m_best.avgMetrics) ]"
   ]
  },
  {
   "cell_type": "markdown",
   "metadata": {},
   "source": [
    "# Final Steps\n",
    "Clean up your code, adding comments and renaming variables to make the code easier to read and maintain. Refer to the Spark Project Overview page and Data Scientist Capstone Project Rubric to make sure you are including all components of the capstone project and meet all expectations. Remember, this includes thorough documentation in a README file in a Github repository, as well as a web app or blog post."
   ]
  }
 ],
 "metadata": {
  "kernelspec": {
   "display_name": "Python 3",
   "language": "python",
   "name": "python3"
  },
  "language_info": {
   "codemirror_mode": {
    "name": "ipython",
    "version": 3
   },
   "file_extension": ".py",
   "mimetype": "text/x-python",
   "name": "python",
   "nbconvert_exporter": "python",
   "pygments_lexer": "ipython3",
   "version": "3.6.3"
  }
 },
 "nbformat": 4,
 "nbformat_minor": 2
}
